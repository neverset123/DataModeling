{
 "cells": [
  {
   "cell_type": "markdown",
   "metadata": {
    "application/vnd.databricks.v1+cell": {
     "cellMetadata": {},
     "inputWidgets": {},
     "nuid": "6313987c-a550-4080-8bd7-259a54d7981e",
     "showTitle": false,
     "title": ""
    }
   },
   "source": [
    "## Loading data into delta lake"
   ]
  },
  {
   "cell_type": "code",
   "execution_count": 0,
   "metadata": {
    "application/vnd.databricks.v1+cell": {
     "cellMetadata": {
      "byteLimit": 2048000,
      "rowLimit": 10000
     },
     "inputWidgets": {},
     "nuid": "1a9dc9d5-e5b3-4c28-96aa-755fa9b16754",
     "showTitle": false,
     "title": ""
    }
   },
   "outputs": [],
   "source": [
    "payments_column = [\"payment_id\", \"date\", \"amount\", \"rider_id\"]\n",
    "riders_column = [\"rider_id\", \"first\", \"last\", \"address\", \"birthday\", \"account_start_date\", \"account_end_date\", \"is_member\"]\n",
    "stations_column = [\"station_id\", \"name\", \"latitude\", \"longitude\"]\n",
    "trips_column = [\"trip_id\", \"rideable_type\", \"started_at\", \"ended_at\", \"start_station_id\", \"end_station_id\", \"rider_id\"]"
   ]
  },
  {
   "cell_type": "code",
   "execution_count": 0,
   "metadata": {
    "application/vnd.databricks.v1+cell": {
     "cellMetadata": {
      "byteLimit": 2048000,
      "rowLimit": 10000
     },
     "inputWidgets": {},
     "nuid": "ee2ff552-2339-4bfd-91cc-51dccfb4c8cf",
     "showTitle": false,
     "title": ""
    }
   },
   "outputs": [],
   "source": [
    "df_payments = spark.read.format(\"csv\").option(\"inferSchema\", \"false\").option(\"header\", \"false\").load(\"/FileStore/data/payments.csv\").toDF(*payments_column)\n",
    "df_riders = spark.read.format(\"csv\").option(\"inferSchema\", \"false\").option(\"header\", \"false\").load(\"/FileStore/data/riders.csv\").toDF(*riders_column)\n",
    "df_stations = spark.read.format(\"csv\").option(\"inferSchema\", \"false\").option(\"header\", \"false\").load(\"/FileStore/data/stations.csv\").toDF(*stations_column)\n",
    "df_trips = spark.read.format(\"csv\").option(\"inferSchema\", \"false\").option(\"header\", \"false\").load(\"/FileStore/data/trips.csv\").toDF(*trips_column)\n"
   ]
  },
  {
   "cell_type": "code",
   "execution_count": 0,
   "metadata": {
    "application/vnd.databricks.v1+cell": {
     "cellMetadata": {
      "byteLimit": 2048000,
      "rowLimit": 10000
     },
     "inputWidgets": {},
     "nuid": "110d25d9-3242-4f1d-821c-12bd7cb56431",
     "showTitle": false,
     "title": ""
    }
   },
   "outputs": [],
   "source": [
    "df_payments.write.format(\"delta\").mode(\"overwrite\").save(\"/delta/data/payments\")\n",
    "df_riders.write.format(\"delta\").mode(\"overwrite\").save(\"/delta/data/riders\")\n",
    "df_stations.write.format(\"delta\").mode(\"overwrite\").save(\"/delta/data/stations\")\n",
    "df_trips.write.format(\"delta\").mode(\"overwrite\").save(\"/delta/data/trips\")"
   ]
  },
  {
   "cell_type": "code",
   "execution_count": 0,
   "metadata": {
    "application/vnd.databricks.v1+cell": {
     "cellMetadata": {
      "byteLimit": 2048000,
      "rowLimit": 10000
     },
     "inputWidgets": {},
     "nuid": "dab51d7c-4531-49e0-8550-64c6c7fe73e6",
     "showTitle": false,
     "title": ""
    }
   },
   "outputs": [],
   "source": [
    "df_payments.write.format(\"delta\").mode(\"overwrite\").saveAsTable(\"payment_table\")\n",
    "df_riders.write.format(\"delta\").mode(\"overwrite\").saveAsTable(\"rider_table\")\n",
    "df_stations.write.format(\"delta\").mode(\"overwrite\").saveAsTable(\"station_table\")\n",
    "df_trips.write.format(\"delta\").mode(\"overwrite\").saveAsTable(\"trip_table\")"
   ]
  },
  {
   "cell_type": "markdown",
   "metadata": {
    "application/vnd.databricks.v1+cell": {
     "cellMetadata": {},
     "inputWidgets": {},
     "nuid": "7317d346-e647-40b5-abc4-e8cc50e5d77e",
     "showTitle": false,
     "title": ""
    }
   },
   "source": [
    "## Extract"
   ]
  },
  {
   "cell_type": "code",
   "execution_count": 0,
   "metadata": {
    "application/vnd.databricks.v1+cell": {
     "cellMetadata": {
      "byteLimit": 2048000,
      "rowLimit": 10000
     },
     "inputWidgets": {},
     "nuid": "edcd571d-4b2f-487b-b5cc-cee622731aa1",
     "showTitle": false,
     "title": ""
    }
   },
   "outputs": [],
   "source": [
    "df_payments = spark.read.format(\"delta\").load(\"/delta/data/payments\")\n",
    "df_riders = spark.read.format(\"delta\").load(\"/delta/data/riders\")\n",
    "df_stations = spark.read.format(\"delta\").load(\"/delta/data/stations\")\n",
    "df_trips = spark.read.format(\"delta\").load(\"/delta/data/trips\")"
   ]
  },
  {
   "cell_type": "code",
   "execution_count": 0,
   "metadata": {
    "application/vnd.databricks.v1+cell": {
     "cellMetadata": {
      "byteLimit": 2048000,
      "rowLimit": 10000
     },
     "inputWidgets": {},
     "nuid": "b64a5936-a168-4ab8-ac5b-24c730b7f8ab",
     "showTitle": false,
     "title": ""
    }
   },
   "outputs": [],
   "source": [
    "df_payments = df_payments.dropDuplicates(df_payments.columns)\n",
    "df_riders = df_riders.dropDuplicates(df_riders.columns)\n",
    "df_stations = df_stations.dropDuplicates(df_stations.columns)\n",
    "df_trips = df_trips.dropDuplicates(df_trips.columns)\n"
   ]
  },
  {
   "cell_type": "code",
   "execution_count": 0,
   "metadata": {
    "application/vnd.databricks.v1+cell": {
     "cellMetadata": {
      "byteLimit": 2048000,
      "rowLimit": 10000
     },
     "inputWidgets": {},
     "nuid": "8cd88084-828a-4115-b235-c95aefa632b1",
     "showTitle": false,
     "title": ""
    }
   },
   "outputs": [],
   "source": [
    "df_payments.write.format(\"delta\").mode(\"overwrite\").save(\"/delta/data/silver/payments\")\n",
    "df_riders.write.format(\"delta\").mode(\"overwrite\").save(\"/delta/data/silver/riders\")\n",
    "df_stations.write.format(\"delta\").mode(\"overwrite\").save(\"/delta/data/silver/stations\")\n",
    "df_trips.write.format(\"delta\").mode(\"overwrite\").save(\"/delta/data/silver/trips\")"
   ]
  },
  {
   "cell_type": "code",
   "execution_count": 0,
   "metadata": {
    "application/vnd.databricks.v1+cell": {
     "cellMetadata": {
      "byteLimit": 2048000,
      "rowLimit": 10000
     },
     "inputWidgets": {},
     "nuid": "48289482-005b-45d7-b862-a5f6e235e4a7",
     "showTitle": false,
     "title": ""
    }
   },
   "outputs": [
    {
     "output_type": "execute_result",
     "data": {
      "text/plain": [
       "DataFrame[]"
      ]
     },
     "execution_count": 84,
     "metadata": {},
     "output_type": "execute_result"
    }
   ],
   "source": [
    "spark.sql(\"CREATE TABLE payment_table_silver USING DELTA LOCATION '/delta/data/silver/payments'\")\n",
    "spark.sql(\"CREATE TABLE rider_table_silver USING DELTA LOCATION '/delta/data/silver/riders'\")\n",
    "spark.sql(\"CREATE TABLE station_table_silver USING DELTA LOCATION '/delta/data/silver/stations'\")\n",
    "spark.sql(\"CREATE TABLE trip_table_silver USING DELTA LOCATION '/delta/data/silver/trips'\")"
   ]
  },
  {
   "cell_type": "markdown",
   "metadata": {
    "application/vnd.databricks.v1+cell": {
     "cellMetadata": {},
     "inputWidgets": {},
     "nuid": "abbf9fee-53a9-4017-b0f4-8ffe6fa32a62",
     "showTitle": false,
     "title": ""
    }
   },
   "source": [
    "## Transform"
   ]
  },
  {
   "cell_type": "code",
   "execution_count": 0,
   "metadata": {
    "application/vnd.databricks.v1+cell": {
     "cellMetadata": {
      "byteLimit": 2048000,
      "rowLimit": 10000
     },
     "inputWidgets": {},
     "nuid": "b9a7913b-b0c1-4f3f-989c-e871d07e4a46",
     "showTitle": false,
     "title": ""
    }
   },
   "outputs": [],
   "source": [
    "df_payments = spark.table(\"default.payment_table_silver\")\n",
    "df_riders = spark.table(\"default.rider_table_silver\")\n",
    "df_stations = spark.table(\"default.station_table_silver\")\n",
    "df_trips = spark.table(\"default.trip_table_silver\")"
   ]
  },
  {
   "cell_type": "code",
   "execution_count": 0,
   "metadata": {
    "application/vnd.databricks.v1+cell": {
     "cellMetadata": {
      "byteLimit": 2048000,
      "rowLimit": 10000
     },
     "inputWidgets": {},
     "nuid": "65562458-056b-41ef-b821-fde01bdcc70d",
     "showTitle": false,
     "title": ""
    }
   },
   "outputs": [
    {
     "output_type": "display_data",
     "data": {
      "text/html": [
       "<style scoped>\n",
       "  .table-result-container {\n",
       "    max-height: 300px;\n",
       "    overflow: auto;\n",
       "  }\n",
       "  table, th, td {\n",
       "    border: 1px solid black;\n",
       "    border-collapse: collapse;\n",
       "  }\n",
       "  th, td {\n",
       "    padding: 5px;\n",
       "  }\n",
       "  th {\n",
       "    text-align: left;\n",
       "  }\n",
       "</style><div class='table-result-container'><table class='table-result'><thead style='background-color: white'><tr><th>payment_id</th><th>amount</th><th>rider_id</th><th>date_id</th></tr></thead><tbody><tr><td>35</td><td>9.0</td><td>1001</td><td>20191201</td></tr><tr><td>223</td><td>9.0</td><td>1010</td><td>20200101</td></tr><tr><td>251</td><td>9.0</td><td>1011</td><td>20170801</td></tr><tr><td>633</td><td>23.31</td><td>1025</td><td>20211201</td></tr><tr><td>758</td><td>9.0</td><td>1032</td><td>20190101</td></tr><tr><td>774</td><td>9.0</td><td>1032</td><td>20200501</td></tr><tr><td>936</td><td>9.0</td><td>1038</td><td>20200901</td></tr><tr><td>1132</td><td>9.0</td><td>1042</td><td>20190201</td></tr><tr><td>1221</td><td>9.0</td><td>1043</td><td>20190501</td></tr><tr><td>2005</td><td>9.0</td><td>1074</td><td>20210101</td></tr></tbody></table></div>"
      ]
     },
     "metadata": {
      "application/vnd.databricks.v1+output": {
       "addedWidgets": {},
       "aggData": [],
       "aggError": "",
       "aggOverflow": false,
       "aggSchema": [],
       "aggSeriesLimitReached": false,
       "aggType": "",
       "arguments": {},
       "columnCustomDisplayInfos": {},
       "data": [
        [
         "35",
         "9.0",
         "1001",
         "20191201"
        ],
        [
         "223",
         "9.0",
         "1010",
         "20200101"
        ],
        [
         "251",
         "9.0",
         "1011",
         "20170801"
        ],
        [
         "633",
         "23.31",
         "1025",
         "20211201"
        ],
        [
         "758",
         "9.0",
         "1032",
         "20190101"
        ],
        [
         "774",
         "9.0",
         "1032",
         "20200501"
        ],
        [
         "936",
         "9.0",
         "1038",
         "20200901"
        ],
        [
         "1132",
         "9.0",
         "1042",
         "20190201"
        ],
        [
         "1221",
         "9.0",
         "1043",
         "20190501"
        ],
        [
         "2005",
         "9.0",
         "1074",
         "20210101"
        ]
       ],
       "datasetInfos": [],
       "dbfsResultPath": null,
       "isJsonSchema": true,
       "metadata": {},
       "overflow": false,
       "plotOptions": {
        "customPlotOptions": {},
        "displayType": "table",
        "pivotAggregation": null,
        "pivotColumns": null,
        "xColumns": null,
        "yColumns": null
       },
       "removedWidgets": [],
       "schema": [
        {
         "metadata": "{}",
         "name": "payment_id",
         "type": "\"string\""
        },
        {
         "metadata": "{}",
         "name": "amount",
         "type": "\"string\""
        },
        {
         "metadata": "{}",
         "name": "rider_id",
         "type": "\"string\""
        },
        {
         "metadata": "{}",
         "name": "date_id",
         "type": "\"string\""
        }
       ],
       "type": "table"
      }
     },
     "output_type": "display_data"
    }
   ],
   "source": [
    "from pyspark.sql import functions as F\n",
    "\n",
    "df_fact_payment = df_payments.withColumn(\"date_id\", F.regexp_replace(\"date\", \"-\", \"\")).select(\"payment_id\", \"amount\", \"rider_id\", \"date_id\")\n",
    "df_fact_payment.write.format(\"delta\").mode(\"overwrite\").save(\"/delta/data/golden/payments\")\n",
    "df_fact_payment.write.format(\"delta\").mode(\"overwrite\").saveAsTable(\"fact_payment\")\n",
    "df_fact_payment.limit(10).display()"
   ]
  },
  {
   "cell_type": "code",
   "execution_count": 0,
   "metadata": {
    "application/vnd.databricks.v1+cell": {
     "cellMetadata": {
      "byteLimit": 2048000,
      "rowLimit": 10000
     },
     "inputWidgets": {},
     "nuid": "2339a770-47db-468f-9355-ea63b2c22384",
     "showTitle": false,
     "title": ""
    }
   },
   "outputs": [
    {
     "output_type": "display_data",
     "data": {
      "text/html": [
       "<style scoped>\n",
       "  .table-result-container {\n",
       "    max-height: 300px;\n",
       "    overflow: auto;\n",
       "  }\n",
       "  table, th, td {\n",
       "    border: 1px solid black;\n",
       "    border-collapse: collapse;\n",
       "  }\n",
       "  th, td {\n",
       "    padding: 5px;\n",
       "  }\n",
       "  th {\n",
       "    text-align: left;\n",
       "  }\n",
       "</style><div class='table-result-container'><table class='table-result'><thead style='background-color: white'><tr><th>trip_id</th><th>trip_duration_min</th><th>rider_id</th><th>start_station_id</th><th>end_station_id</th><th>date_id</th><th>age_at_trip</th></tr></thead><tbody><tr><td>710CF541AD1AABA3</td><td>8.733333333333333</td><td>70413</td><td>623</td><td>13263</td><td>20210203</td><td>16</td></tr><tr><td>A164800246059225</td><td>4.6</td><td>42130</td><td>KA1503000034</td><td>TA1305000029</td><td>20210205</td><td>35</td></tr><tr><td>7EDA0DB96BE86245</td><td>8.7</td><td>71398</td><td>13221</td><td>637</td><td>20210202</td><td>28</td></tr><tr><td>3F0DE8D472139C38</td><td>4.966666666666667</td><td>74058</td><td>18067</td><td>TA1307000166</td><td>20210225</td><td>27</td></tr><tr><td>7BE513DB779DB252</td><td>14.05</td><td>74015</td><td>TA1307000151</td><td>KA1503000041</td><td>20210222</td><td>18</td></tr><tr><td>706DA4E8CCBB466C</td><td>13.883333333333333</td><td>42391</td><td>KA1503000034</td><td>15529</td><td>20210222</td><td>21</td></tr><tr><td>9006903BEB00F908</td><td>3.816666666666667</td><td>45191</td><td>13138</td><td>15550</td><td>20210224</td><td>25</td></tr><tr><td>540EEBEAF8A2CCDF</td><td>10.55</td><td>47434</td><td>KA1504000159</td><td>KA1504000156</td><td>20210201</td><td>34</td></tr><tr><td>6B69584E5D396F98</td><td>5.6</td><td>3181</td><td>13128</td><td>TA1307000039</td><td>20210223</td><td>52</td></tr><tr><td>01AC03FCDECFE5D8</td><td>27.283333333333335</td><td>67432</td><td>TA1309000004</td><td>TA1305000010</td><td>20210226</td><td>41</td></tr></tbody></table></div>"
      ]
     },
     "metadata": {
      "application/vnd.databricks.v1+output": {
       "addedWidgets": {},
       "aggData": [],
       "aggError": "",
       "aggOverflow": false,
       "aggSchema": [],
       "aggSeriesLimitReached": false,
       "aggType": "",
       "arguments": {},
       "columnCustomDisplayInfos": {},
       "data": [
        [
         "710CF541AD1AABA3",
         8.733333333333333,
         "70413",
         "623",
         "13263",
         "20210203",
         16
        ],
        [
         "A164800246059225",
         4.6,
         "42130",
         "KA1503000034",
         "TA1305000029",
         "20210205",
         35
        ],
        [
         "7EDA0DB96BE86245",
         8.7,
         "71398",
         "13221",
         "637",
         "20210202",
         28
        ],
        [
         "3F0DE8D472139C38",
         4.966666666666667,
         "74058",
         "18067",
         "TA1307000166",
         "20210225",
         27
        ],
        [
         "7BE513DB779DB252",
         14.05,
         "74015",
         "TA1307000151",
         "KA1503000041",
         "20210222",
         18
        ],
        [
         "706DA4E8CCBB466C",
         13.883333333333333,
         "42391",
         "KA1503000034",
         "15529",
         "20210222",
         21
        ],
        [
         "9006903BEB00F908",
         3.816666666666667,
         "45191",
         "13138",
         "15550",
         "20210224",
         25
        ],
        [
         "540EEBEAF8A2CCDF",
         10.55,
         "47434",
         "KA1504000159",
         "KA1504000156",
         "20210201",
         34
        ],
        [
         "6B69584E5D396F98",
         5.6,
         "3181",
         "13128",
         "TA1307000039",
         "20210223",
         52
        ],
        [
         "01AC03FCDECFE5D8",
         27.283333333333335,
         "67432",
         "TA1309000004",
         "TA1305000010",
         "20210226",
         41
        ]
       ],
       "datasetInfos": [],
       "dbfsResultPath": null,
       "isJsonSchema": true,
       "metadata": {},
       "overflow": false,
       "plotOptions": {
        "customPlotOptions": {},
        "displayType": "table",
        "pivotAggregation": null,
        "pivotColumns": null,
        "xColumns": null,
        "yColumns": null
       },
       "removedWidgets": [],
       "schema": [
        {
         "metadata": "{}",
         "name": "trip_id",
         "type": "\"string\""
        },
        {
         "metadata": "{}",
         "name": "trip_duration_min",
         "type": "\"double\""
        },
        {
         "metadata": "{}",
         "name": "rider_id",
         "type": "\"string\""
        },
        {
         "metadata": "{}",
         "name": "start_station_id",
         "type": "\"string\""
        },
        {
         "metadata": "{}",
         "name": "end_station_id",
         "type": "\"string\""
        },
        {
         "metadata": "{}",
         "name": "date_id",
         "type": "\"string\""
        },
        {
         "metadata": "{}",
         "name": "age_at_trip",
         "type": "\"integer\""
        }
       ],
       "type": "table"
      }
     },
     "output_type": "display_data"
    }
   ],
   "source": [
    "df_fact_trip = (df_trips.withColumn(\"trip_duration_min\", (F.unix_timestamp(\"ended_at\")-F.unix_timestamp(\"started_at\"))/60)\n",
    "                        .withColumn(\"date_id\", F.regexp_replace(F.col(\"started_at\").substr(1,10), \"-\", \"\"))\n",
    "                        .join(df_riders, on=\"rider_id\", how=\"left\")\n",
    "                        .withColumn(\"age_at_trip\", F.col(\"started_at\").substr(1,4).astype(\"int\")-F.col(\"birthday\").substr(1,4).astype(\"int\"))\n",
    "                        .select(\"trip_id\", \"trip_duration_min\", \"rider_id\", \"start_station_id\", \"end_station_id\", \"date_id\", \"age_at_trip\")\n",
    "                )\n",
    "df_fact_trip.write.format(\"delta\").mode(\"overwrite\").save(\"/delta/data/golden/trips\")\n",
    "df_fact_trip.write.format(\"delta\").mode(\"overwrite\").saveAsTable(\"fact_trip\")\n",
    "df_fact_trip.limit(10).display()"
   ]
  },
  {
   "cell_type": "code",
   "execution_count": 0,
   "metadata": {
    "application/vnd.databricks.v1+cell": {
     "cellMetadata": {
      "byteLimit": 2048000,
      "rowLimit": 10000
     },
     "inputWidgets": {},
     "nuid": "0bedafe8-3b16-4eee-a94e-fd9eee1f5503",
     "showTitle": false,
     "title": ""
    }
   },
   "outputs": [
    {
     "output_type": "display_data",
     "data": {
      "text/html": [
       "<style scoped>\n",
       "  .table-result-container {\n",
       "    max-height: 300px;\n",
       "    overflow: auto;\n",
       "  }\n",
       "  table, th, td {\n",
       "    border: 1px solid black;\n",
       "    border-collapse: collapse;\n",
       "  }\n",
       "  th, td {\n",
       "    padding: 5px;\n",
       "  }\n",
       "  th {\n",
       "    text-align: left;\n",
       "  }\n",
       "</style><div class='table-result-container'><table class='table-result'><thead style='background-color: white'><tr><th>rider_id</th><th>name</th><th>is_member</th><th>age_at_account_start</th></tr></thead><tbody><tr><td>1153</td><td>James Harrison</td><td>True</td><td>16</td></tr><tr><td>1181</td><td>Brandon Robinson</td><td>True</td><td>21</td></tr><tr><td>1313</td><td>Nathan Trevino</td><td>True</td><td>13</td></tr><tr><td>1436</td><td>Vincent Clark</td><td>True</td><td>36</td></tr><tr><td>1670</td><td>Rebecca Freeman</td><td>False</td><td>25</td></tr><tr><td>1758</td><td>Andrew Johnson</td><td>False</td><td>19</td></tr><tr><td>1831</td><td>Jennifer Garcia</td><td>True</td><td>25</td></tr><tr><td>1936</td><td>Brenda Brady</td><td>True</td><td>29</td></tr><tr><td>2064</td><td>Joshua Khan</td><td>True</td><td>46</td></tr><tr><td>2109</td><td>Melissa Vasquez</td><td>True</td><td>23</td></tr></tbody></table></div>"
      ]
     },
     "metadata": {
      "application/vnd.databricks.v1+output": {
       "addedWidgets": {},
       "aggData": [],
       "aggError": "",
       "aggOverflow": false,
       "aggSchema": [],
       "aggSeriesLimitReached": false,
       "aggType": "",
       "arguments": {},
       "columnCustomDisplayInfos": {},
       "data": [
        [
         "1153",
         "James Harrison",
         "True",
         16
        ],
        [
         "1181",
         "Brandon Robinson",
         "True",
         21
        ],
        [
         "1313",
         "Nathan Trevino",
         "True",
         13
        ],
        [
         "1436",
         "Vincent Clark",
         "True",
         36
        ],
        [
         "1670",
         "Rebecca Freeman",
         "False",
         25
        ],
        [
         "1758",
         "Andrew Johnson",
         "False",
         19
        ],
        [
         "1831",
         "Jennifer Garcia",
         "True",
         25
        ],
        [
         "1936",
         "Brenda Brady",
         "True",
         29
        ],
        [
         "2064",
         "Joshua Khan",
         "True",
         46
        ],
        [
         "2109",
         "Melissa Vasquez",
         "True",
         23
        ]
       ],
       "datasetInfos": [],
       "dbfsResultPath": null,
       "isJsonSchema": true,
       "metadata": {},
       "overflow": false,
       "plotOptions": {
        "customPlotOptions": {},
        "displayType": "table",
        "pivotAggregation": null,
        "pivotColumns": null,
        "xColumns": null,
        "yColumns": null
       },
       "removedWidgets": [],
       "schema": [
        {
         "metadata": "{}",
         "name": "rider_id",
         "type": "\"string\""
        },
        {
         "metadata": "{}",
         "name": "name",
         "type": "\"string\""
        },
        {
         "metadata": "{}",
         "name": "is_member",
         "type": "\"string\""
        },
        {
         "metadata": "{}",
         "name": "age_at_account_start",
         "type": "\"integer\""
        }
       ],
       "type": "table"
      }
     },
     "output_type": "display_data"
    }
   ],
   "source": [
    "df_dim_rider = (df_riders.withColumn(\"name\", F.concat(\"first\", F.lit(\" \"), \"last\"))\n",
    "                         .withColumn(\"age_at_account_start\", F.col(\"account_start_date\").substr(1,4).astype(\"int\")-F.col(\"birthday\").substr(1,4).astype(\"int\"))\n",
    "                         .select(\"rider_id\", \"name\", \"is_member\", \"age_at_account_start\")            \n",
    "                )\n",
    "df_dim_rider.write.format(\"delta\").mode(\"overwrite\").save(\"/delta/data/golden/riders\")\n",
    "df_dim_rider.write.format(\"delta\").mode(\"overwrite\").saveAsTable(\"dim_rider\")\n",
    "df_dim_rider.limit(10).display()"
   ]
  },
  {
   "cell_type": "code",
   "execution_count": 0,
   "metadata": {
    "application/vnd.databricks.v1+cell": {
     "cellMetadata": {
      "byteLimit": 2048000,
      "rowLimit": 10000
     },
     "inputWidgets": {},
     "nuid": "02c05505-17ef-46ae-90b8-1f84bd2e6841",
     "showTitle": false,
     "title": ""
    }
   },
   "outputs": [
    {
     "output_type": "display_data",
     "data": {
      "text/html": [
       "<style scoped>\n",
       "  .table-result-container {\n",
       "    max-height: 300px;\n",
       "    overflow: auto;\n",
       "  }\n",
       "  table, th, td {\n",
       "    border: 1px solid black;\n",
       "    border-collapse: collapse;\n",
       "  }\n",
       "  th, td {\n",
       "    padding: 5px;\n",
       "  }\n",
       "  th {\n",
       "    text-align: left;\n",
       "  }\n",
       "</style><div class='table-result-container'><table class='table-result'><thead style='background-color: white'><tr><th>station_id</th><th>name</th></tr></thead><tbody><tr><td>13277</td><td>Broadway & Belmont Ave</td></tr><tr><td>RP-002</td><td>Warren Park East</td></tr><tr><td>16916</td><td>Central Ave & Madison St</td></tr><tr><td>319</td><td>Roscoe & Harlem</td></tr><tr><td>TA1305000002</td><td>Wabash Ave & Roosevelt Rd</td></tr><tr><td>KA1503000007</td><td>Cornell Ave & Hyde Park Blvd</td></tr><tr><td>TA1306000007</td><td>Larrabee St & Menomonee St</td></tr><tr><td>15687</td><td>Central Park Ave & 24th St</td></tr><tr><td>KA1504000160</td><td>Francisco Ave & Foster Ave</td></tr><tr><td>13325</td><td>Broadway & Waveland Ave</td></tr></tbody></table></div>"
      ]
     },
     "metadata": {
      "application/vnd.databricks.v1+output": {
       "addedWidgets": {},
       "aggData": [],
       "aggError": "",
       "aggOverflow": false,
       "aggSchema": [],
       "aggSeriesLimitReached": false,
       "aggType": "",
       "arguments": {},
       "columnCustomDisplayInfos": {},
       "data": [
        [
         "13277",
         "Broadway & Belmont Ave"
        ],
        [
         "RP-002",
         "Warren Park East"
        ],
        [
         "16916",
         "Central Ave & Madison St"
        ],
        [
         "319",
         "Roscoe & Harlem"
        ],
        [
         "TA1305000002",
         "Wabash Ave & Roosevelt Rd"
        ],
        [
         "KA1503000007",
         "Cornell Ave & Hyde Park Blvd"
        ],
        [
         "TA1306000007",
         "Larrabee St & Menomonee St"
        ],
        [
         "15687",
         "Central Park Ave & 24th St"
        ],
        [
         "KA1504000160",
         "Francisco Ave & Foster Ave"
        ],
        [
         "13325",
         "Broadway & Waveland Ave"
        ]
       ],
       "datasetInfos": [],
       "dbfsResultPath": null,
       "isJsonSchema": true,
       "metadata": {},
       "overflow": false,
       "plotOptions": {
        "customPlotOptions": {},
        "displayType": "table",
        "pivotAggregation": null,
        "pivotColumns": null,
        "xColumns": null,
        "yColumns": null
       },
       "removedWidgets": [],
       "schema": [
        {
         "metadata": "{}",
         "name": "station_id",
         "type": "\"string\""
        },
        {
         "metadata": "{}",
         "name": "name",
         "type": "\"string\""
        }
       ],
       "type": "table"
      }
     },
     "output_type": "display_data"
    }
   ],
   "source": [
    "df_dim_station = df_stations.select(\"station_id\", \"name\")\n",
    "df_dim_station.write.format(\"delta\").mode(\"overwrite\").save(\"/delta/data/golden/stations\")\n",
    "df_dim_station.write.format(\"delta\").mode(\"overwrite\").saveAsTable(\"dim_station\")\n",
    "df_dim_station.limit(10).display()"
   ]
  },
  {
   "cell_type": "code",
   "execution_count": 0,
   "metadata": {
    "application/vnd.databricks.v1+cell": {
     "cellMetadata": {
      "byteLimit": 2048000,
      "rowLimit": 10000
     },
     "inputWidgets": {},
     "nuid": "2ab89bb6-ebed-4010-a685-a2274881bc01",
     "showTitle": false,
     "title": ""
    }
   },
   "outputs": [],
   "source": [
    "import pandas as pd\n",
    "from datetime import datetime\n",
    "\n",
    "def get_date_info(row):\n",
    "    date = row[\"date\"][0:10]\n",
    "    date_id = int(date.replace(\"-\", \"\"))\n",
    "    year = int(date[0:4])\n",
    "    quarter = int(pd.DatetimeIndex([pd.to_datetime(date)]).quarter[0])\n",
    "    month = int(date[5:7])\n",
    "    day = int(date[8:10])\n",
    "    weekday = int(datetime.strptime(date, \"%Y-%m-%d\").weekday())\n",
    "    return date_id, year, quarter, month, day, weekday\n"
   ]
  },
  {
   "cell_type": "code",
   "execution_count": 0,
   "metadata": {
    "application/vnd.databricks.v1+cell": {
     "cellMetadata": {
      "byteLimit": 2048000,
      "rowLimit": 10000
     },
     "inputWidgets": {},
     "nuid": "ce42f292-736a-47e3-86d6-3e3015f49477",
     "showTitle": false,
     "title": ""
    }
   },
   "outputs": [
    {
     "output_type": "display_data",
     "data": {
      "text/html": [
       "<style scoped>\n",
       "  .table-result-container {\n",
       "    max-height: 300px;\n",
       "    overflow: auto;\n",
       "  }\n",
       "  table, th, td {\n",
       "    border: 1px solid black;\n",
       "    border-collapse: collapse;\n",
       "  }\n",
       "  th, td {\n",
       "    padding: 5px;\n",
       "  }\n",
       "  th {\n",
       "    text-align: left;\n",
       "  }\n",
       "</style><div class='table-result-container'><table class='table-result'><thead style='background-color: white'><tr><th>date_id</th><th>year</th><th>quarter</th><th>month</th><th>day</th><th>weekday</th></tr></thead><tbody><tr><td>20210214</td><td>2021</td><td>1</td><td>2</td><td>14</td><td>6</td></tr><tr><td>20210206</td><td>2021</td><td>1</td><td>2</td><td>6</td><td>5</td></tr><tr><td>20210203</td><td>2021</td><td>1</td><td>2</td><td>3</td><td>2</td></tr><tr><td>20210211</td><td>2021</td><td>1</td><td>2</td><td>11</td><td>3</td></tr><tr><td>20210227</td><td>2021</td><td>1</td><td>2</td><td>27</td><td>5</td></tr><tr><td>20210202</td><td>2021</td><td>1</td><td>2</td><td>2</td><td>1</td></tr><tr><td>20210220</td><td>2021</td><td>1</td><td>2</td><td>20</td><td>5</td></tr><tr><td>20210226</td><td>2021</td><td>1</td><td>2</td><td>26</td><td>4</td></tr><tr><td>20210201</td><td>2021</td><td>1</td><td>2</td><td>1</td><td>0</td></tr><tr><td>20210219</td><td>2021</td><td>1</td><td>2</td><td>19</td><td>4</td></tr></tbody></table></div>"
      ]
     },
     "metadata": {
      "application/vnd.databricks.v1+output": {
       "addedWidgets": {},
       "aggData": [],
       "aggError": "",
       "aggOverflow": false,
       "aggSchema": [],
       "aggSeriesLimitReached": false,
       "aggType": "",
       "arguments": {},
       "columnCustomDisplayInfos": {},
       "data": [
        [
         20210214,
         2021,
         1,
         2,
         14,
         6
        ],
        [
         20210206,
         2021,
         1,
         2,
         6,
         5
        ],
        [
         20210203,
         2021,
         1,
         2,
         3,
         2
        ],
        [
         20210211,
         2021,
         1,
         2,
         11,
         3
        ],
        [
         20210227,
         2021,
         1,
         2,
         27,
         5
        ],
        [
         20210202,
         2021,
         1,
         2,
         2,
         1
        ],
        [
         20210220,
         2021,
         1,
         2,
         20,
         5
        ],
        [
         20210226,
         2021,
         1,
         2,
         26,
         4
        ],
        [
         20210201,
         2021,
         1,
         2,
         1,
         0
        ],
        [
         20210219,
         2021,
         1,
         2,
         19,
         4
        ]
       ],
       "datasetInfos": [],
       "dbfsResultPath": null,
       "isJsonSchema": true,
       "metadata": {},
       "overflow": false,
       "plotOptions": {
        "customPlotOptions": {},
        "displayType": "table",
        "pivotAggregation": null,
        "pivotColumns": null,
        "xColumns": null,
        "yColumns": null
       },
       "removedWidgets": [],
       "schema": [
        {
         "metadata": "{}",
         "name": "date_id",
         "type": "\"long\""
        },
        {
         "metadata": "{}",
         "name": "year",
         "type": "\"long\""
        },
        {
         "metadata": "{}",
         "name": "quarter",
         "type": "\"long\""
        },
        {
         "metadata": "{}",
         "name": "month",
         "type": "\"long\""
        },
        {
         "metadata": "{}",
         "name": "day",
         "type": "\"long\""
        },
        {
         "metadata": "{}",
         "name": "weekday",
         "type": "\"long\""
        }
       ],
       "type": "table"
      }
     },
     "output_type": "display_data"
    }
   ],
   "source": [
    "dim_date_columns = [\"date_id\", \"year\", \"quarter\", \"month\", \"day\", \"weekday\"]\n",
    "df_dim_date = (df_trips.select(\"started_at\").withColumnRenamed(\"started_at\", \"date\").rdd.map(get_date_info).toDF(dim_date_columns)\n",
    "               .union(df_trips.select(\"ended_at\").withColumnRenamed(\"ended_at\", \"date\").rdd.map(get_date_info).toDF(dim_date_columns))\n",
    "               .union(df_payments.select(\"date\").rdd.map(get_date_info).toDF(dim_date_columns))\n",
    "               .dropDuplicates(dim_date_columns)\n",
    ")\n",
    "df_dim_date.write.format(\"delta\").mode(\"overwrite\").save(\"/delta/data/golden/dates\")\n",
    "df_dim_date.write.format(\"delta\").mode(\"overwrite\").saveAsTable(\"dim_date\")\n",
    "df_dim_date.limit(10).display()"
   ]
  }
 ],
 "metadata": {
  "application/vnd.databricks.v1+notebook": {
   "dashboards": [],
   "language": "python",
   "notebookMetadata": {
    "pythonIndentUnit": 4
   },
   "notebookName": "datalake",
   "widgets": {}
  }
 },
 "nbformat": 4,
 "nbformat_minor": 0
}
